{
 "cells": [
  {
   "cell_type": "code",
   "execution_count": 1,
   "id": "55fabda6",
   "metadata": {
    "_cell_guid": "b1076dfc-b9ad-4769-8c92-a6c4dae69d19",
    "_uuid": "8f2839f25d086af736a60e9eeb907d3b93b6e0e5",
    "execution": {
     "iopub.execute_input": "2025-01-24T13:46:38.107810Z",
     "iopub.status.busy": "2025-01-24T13:46:38.107405Z",
     "iopub.status.idle": "2025-01-24T13:46:39.087663Z",
     "shell.execute_reply": "2025-01-24T13:46:39.086404Z"
    },
    "papermill": {
     "duration": 0.98983,
     "end_time": "2025-01-24T13:46:39.090012",
     "exception": false,
     "start_time": "2025-01-24T13:46:38.100182",
     "status": "completed"
    },
    "tags": []
   },
   "outputs": [
    {
     "name": "stdout",
     "output_type": "stream",
     "text": [
      "/kaggle/input/yahoo-stock-csv/yahoo_stock.csv\n"
     ]
    }
   ],
   "source": [
    "# This Python 3 environment comes with many helpful analytics libraries installed\n",
    "# It is defined by the kaggle/python Docker image: https://github.com/kaggle/docker-python\n",
    "# For example, here's several helpful packages to load\n",
    "\n",
    "import numpy as np # linear algebra\n",
    "import pandas as pd # data processing, CSV file I/O (e.g. pd.read_csv)\n",
    "\n",
    "# Input data files are available in the read-only \"../input/\" directory\n",
    "# For example, running this (by clicking run or pressing Shift+Enter) will list all files under the input directory\n",
    "\n",
    "import os\n",
    "for dirname, _, filenames in os.walk('/kaggle/input'):\n",
    "    for filename in filenames:\n",
    "        print(os.path.join(dirname, filename))\n",
    "\n",
    "# You can write up to 20GB to the current directory (/kaggle/working/) that gets preserved as output when you create a version using \"Save & Run All\" \n",
    "# You can also write temporary files to /kaggle/temp/, but they won't be saved outside of the current session"
   ]
  },
  {
   "cell_type": "code",
   "execution_count": 2,
   "id": "0f40f20f",
   "metadata": {
    "execution": {
     "iopub.execute_input": "2025-01-24T13:46:39.103212Z",
     "iopub.status.busy": "2025-01-24T13:46:39.101816Z",
     "iopub.status.idle": "2025-01-24T13:46:55.091360Z",
     "shell.execute_reply": "2025-01-24T13:46:55.090193Z"
    },
    "papermill": {
     "duration": 15.998209,
     "end_time": "2025-01-24T13:46:55.093607",
     "exception": false,
     "start_time": "2025-01-24T13:46:39.095398",
     "status": "completed"
    },
    "tags": []
   },
   "outputs": [
    {
     "data": {
      "text/html": [
       "<div>\n",
       "<style scoped>\n",
       "    .dataframe tbody tr th:only-of-type {\n",
       "        vertical-align: middle;\n",
       "    }\n",
       "\n",
       "    .dataframe tbody tr th {\n",
       "        vertical-align: top;\n",
       "    }\n",
       "\n",
       "    .dataframe thead th {\n",
       "        text-align: right;\n",
       "    }\n",
       "</style>\n",
       "<table border=\"1\" class=\"dataframe\">\n",
       "  <thead>\n",
       "    <tr style=\"text-align: right;\">\n",
       "      <th></th>\n",
       "      <th>Date</th>\n",
       "      <th>Close</th>\n",
       "      <th>High</th>\n",
       "      <th>Low</th>\n",
       "      <th>Open</th>\n",
       "    </tr>\n",
       "  </thead>\n",
       "  <tbody>\n",
       "    <tr>\n",
       "      <th>0</th>\n",
       "      <td>2015-11-23</td>\n",
       "      <td>2086.590088</td>\n",
       "      <td>2095.610107</td>\n",
       "      <td>2081.389893</td>\n",
       "      <td>2089.409912</td>\n",
       "    </tr>\n",
       "    <tr>\n",
       "      <th>1</th>\n",
       "      <td>2015-11-24</td>\n",
       "      <td>2089.139893</td>\n",
       "      <td>2094.120117</td>\n",
       "      <td>2070.290039</td>\n",
       "      <td>2084.419922</td>\n",
       "    </tr>\n",
       "    <tr>\n",
       "      <th>2</th>\n",
       "      <td>2015-11-25</td>\n",
       "      <td>2088.870117</td>\n",
       "      <td>2093.000000</td>\n",
       "      <td>2086.300049</td>\n",
       "      <td>2089.300049</td>\n",
       "    </tr>\n",
       "    <tr>\n",
       "      <th>3</th>\n",
       "      <td>2015-11-26</td>\n",
       "      <td>2088.870117</td>\n",
       "      <td>2093.000000</td>\n",
       "      <td>2086.300049</td>\n",
       "      <td>2089.300049</td>\n",
       "    </tr>\n",
       "    <tr>\n",
       "      <th>4</th>\n",
       "      <td>2015-11-27</td>\n",
       "      <td>2090.110107</td>\n",
       "      <td>2093.290039</td>\n",
       "      <td>2084.129883</td>\n",
       "      <td>2088.820068</td>\n",
       "    </tr>\n",
       "  </tbody>\n",
       "</table>\n",
       "</div>"
      ],
      "text/plain": [
       "        Date        Close         High          Low         Open\n",
       "0 2015-11-23  2086.590088  2095.610107  2081.389893  2089.409912\n",
       "1 2015-11-24  2089.139893  2094.120117  2070.290039  2084.419922\n",
       "2 2015-11-25  2088.870117  2093.000000  2086.300049  2089.300049\n",
       "3 2015-11-26  2088.870117  2093.000000  2086.300049  2089.300049\n",
       "4 2015-11-27  2090.110107  2093.290039  2084.129883  2088.820068"
      ]
     },
     "execution_count": 2,
     "metadata": {},
     "output_type": "execute_result"
    }
   ],
   "source": [
    "# Johann Estrada Pox & Tim Luhmann\n",
    "\n",
    "# Importierung von benötigten Bibliotheken \n",
    "import numpy as np\n",
    "import pandas as pd\n",
    "import tensorflow as tf\n",
    "from sklearn.preprocessing import MinMaxScaler\n",
    "\n",
    "\n",
    "tf.random.set_seed(7)\n",
    "\n",
    "# Einlesen des Datensatzes von der CSV-Datei\n",
    "df = pd.read_csv('/kaggle/input/yahoo-stock-csv/yahoo_stock.csv')\n",
    "\n",
    "# Date Spalte als Datum festlegen\n",
    "df['Date'] = pd.to_datetime(df[\"Date\"])\n",
    "# 'Date', 'Close', 'High', 'Low' und 'Open' werden für für den Datensatz ausgewählt\n",
    "df = df.loc[: , ['Date', 'Close', 'High', 'Low', 'Open']]\n",
    "# Anzeigen der ersten fünf Einträge\n",
    "df.head()"
   ]
  },
  {
   "cell_type": "code",
   "execution_count": 3,
   "id": "1ef61cea",
   "metadata": {
    "execution": {
     "iopub.execute_input": "2025-01-24T13:46:55.107129Z",
     "iopub.status.busy": "2025-01-24T13:46:55.105983Z",
     "iopub.status.idle": "2025-01-24T13:46:55.154312Z",
     "shell.execute_reply": "2025-01-24T13:46:55.152911Z"
    },
    "papermill": {
     "duration": 0.05785,
     "end_time": "2025-01-24T13:46:55.156707",
     "exception": false,
     "start_time": "2025-01-24T13:46:55.098857",
     "status": "completed"
    },
    "tags": []
   },
   "outputs": [
    {
     "name": "stdout",
     "output_type": "stream",
     "text": [
      "                      Date        Close         High          Low         Open\n",
      "count                 1825  1825.000000  1825.000000  1825.000000  1825.000000\n",
      "mean   2018-05-23 00:00:00  2647.856284  2660.718673  2632.817580  2647.704751\n",
      "min    2015-11-23 00:00:00  1829.079956  1847.000000  1810.099976  1833.400024\n",
      "25%    2017-02-21 00:00:00  2328.949951  2348.350098  2322.250000  2341.979980\n",
      "50%    2018-05-23 00:00:00  2683.340088  2696.250000  2667.840088  2685.489990\n",
      "75%    2019-08-22 00:00:00  2917.520020  2930.790039  2900.709961  2913.860107\n",
      "max    2020-11-20 00:00:00  3626.909912  3645.989990  3600.159912  3612.090088\n",
      "std                    NaN   407.301177   409.680853   404.310068   407.169994\n",
      "<class 'pandas.core.frame.DataFrame'>\n",
      "RangeIndex: 1825 entries, 0 to 1824\n",
      "Data columns (total 5 columns):\n",
      " #   Column  Non-Null Count  Dtype         \n",
      "---  ------  --------------  -----         \n",
      " 0   Date    1825 non-null   datetime64[ns]\n",
      " 1   Close   1825 non-null   float64       \n",
      " 2   High    1825 non-null   float64       \n",
      " 3   Low     1825 non-null   float64       \n",
      " 4   Open    1825 non-null   float64       \n",
      "dtypes: datetime64[ns](1), float64(4)\n",
      "memory usage: 71.4 KB\n",
      "None\n"
     ]
    }
   ],
   "source": [
    "print(df.describe())\n",
    "\n",
    "print(df.info())"
   ]
  },
  {
   "cell_type": "code",
   "execution_count": 4,
   "id": "e00f32f8",
   "metadata": {
    "execution": {
     "iopub.execute_input": "2025-01-24T13:46:55.170988Z",
     "iopub.status.busy": "2025-01-24T13:46:55.169926Z",
     "iopub.status.idle": "2025-01-24T13:46:55.176485Z",
     "shell.execute_reply": "2025-01-24T13:46:55.175346Z"
    },
    "papermill": {
     "duration": 0.015581,
     "end_time": "2025-01-24T13:46:55.178777",
     "exception": false,
     "start_time": "2025-01-24T13:46:55.163196",
     "status": "completed"
    },
    "tags": []
   },
   "outputs": [
    {
     "name": "stdout",
     "output_type": "stream",
     "text": [
      "(1825, 5)\n",
      "False\n"
     ]
    }
   ],
   "source": [
    "# Zeigen der Form der Daten\n",
    "print(df.shape)\n",
    "\n",
    "print(df.isnull().values.any())"
   ]
  },
  {
   "cell_type": "code",
   "execution_count": 5,
   "id": "9fc83ffd",
   "metadata": {
    "execution": {
     "iopub.execute_input": "2025-01-24T13:46:55.192929Z",
     "iopub.status.busy": "2025-01-24T13:46:55.191871Z",
     "iopub.status.idle": "2025-01-24T13:46:55.203135Z",
     "shell.execute_reply": "2025-01-24T13:46:55.201848Z"
    },
    "papermill": {
     "duration": 0.021211,
     "end_time": "2025-01-24T13:46:55.205482",
     "exception": false,
     "start_time": "2025-01-24T13:46:55.184271",
     "status": "completed"
    },
    "tags": []
   },
   "outputs": [],
   "source": [
    "# Zeitbezogene Merkmale\n",
    "def create_date_features(df):\n",
    "    df['month'] = df.Date.dt.month.astype(\"int8\")  # Monat\n",
    "    df['day_of_month'] = df.Date.dt.day.astype(\"int8\")  # Tag des Monats\n",
    "    df['day_of_year'] = df.Date.dt.dayofyear.astype(\"int16\")  # Tag des Jahres\n",
    "    df['week_of_month'] = (df.Date.apply(lambda d: (d.day-1) // 7 + 1)).astype(\"int8\")  # Woche des Monats\n",
    "    #df['week_of_year'] = (df.Date.dt.weekofyear).astype(\"int8\")  # Woche des Jahres\n",
    "    df['day_of_week'] = (df.Date.dt.dayofweek + 1).astype(\"int8\")  # Wochentag\n",
    "    df['year'] = df.Date.dt.year.astype(\"int32\")  # Jahr\n",
    "    df[\"is_wknd\"] = (df.Date.dt.weekday // 4).astype(\"int8\")  # Wochenende\n",
    "    df[\"quarter\"] = df.Date.dt.quarter.astype(\"int8\")  # Quartal\n",
    "    df['is_month_start'] = df.Date.dt.is_month_start.astype(\"int8\")  # Monatsanfang\n",
    "    df['is_month_end'] = df.Date.dt.is_month_end.astype(\"int8\")  # Monatsende\n",
    "    df['is_quarter_start'] = df.Date.dt.is_quarter_start.astype(\"int8\")  # Quartalsanfang\n",
    "    df['is_quarter_end'] = df.Date.dt.is_quarter_end.astype(\"int8\")  # Quartalsende\n",
    "    df['is_year_start'] = df.Date.dt.is_year_start.astype(\"int8\")  # Jahresanfang\n",
    "    df['is_year_end'] = df.Date.dt.is_year_end.astype(\"int8\")  # Jahresende\n",
    "    # 0: Winter - 1: Frühling - 2: Sommer - 3: Herbst\n",
    "    df[\"season\"] = np.where(df.month.isin([12,1,2]), 0, 1)  # Jahreszeit bestimmen\n",
    "    df[\"season\"] = np.where(df.month.isin([6,7,8]), 2, df[\"season\"])  # Sommer\n",
    "    df[\"season\"] = pd.Series(np.where(df.month.isin([9, 10, 11]), 3, df[\"season\"])).astype(\"int8\")  # Herbst\n",
    "    return df"
   ]
  },
  {
   "cell_type": "code",
   "execution_count": 6,
   "id": "d7bb2b31",
   "metadata": {
    "execution": {
     "iopub.execute_input": "2025-01-24T13:46:55.218100Z",
     "iopub.status.busy": "2025-01-24T13:46:55.217688Z",
     "iopub.status.idle": "2025-01-24T13:46:55.252288Z",
     "shell.execute_reply": "2025-01-24T13:46:55.251049Z"
    },
    "papermill": {
     "duration": 0.043855,
     "end_time": "2025-01-24T13:46:55.254778",
     "exception": false,
     "start_time": "2025-01-24T13:46:55.210923",
     "status": "completed"
    },
    "tags": []
   },
   "outputs": [
    {
     "data": {
      "text/html": [
       "<div>\n",
       "<style scoped>\n",
       "    .dataframe tbody tr th:only-of-type {\n",
       "        vertical-align: middle;\n",
       "    }\n",
       "\n",
       "    .dataframe tbody tr th {\n",
       "        vertical-align: top;\n",
       "    }\n",
       "\n",
       "    .dataframe thead th {\n",
       "        text-align: right;\n",
       "    }\n",
       "</style>\n",
       "<table border=\"1\" class=\"dataframe\">\n",
       "  <thead>\n",
       "    <tr style=\"text-align: right;\">\n",
       "      <th></th>\n",
       "      <th>Date</th>\n",
       "      <th>Close</th>\n",
       "      <th>High</th>\n",
       "      <th>Low</th>\n",
       "      <th>Open</th>\n",
       "      <th>month</th>\n",
       "      <th>day_of_month</th>\n",
       "      <th>day_of_year</th>\n",
       "      <th>week_of_month</th>\n",
       "      <th>day_of_week</th>\n",
       "      <th>year</th>\n",
       "      <th>is_wknd</th>\n",
       "      <th>quarter</th>\n",
       "      <th>is_month_start</th>\n",
       "      <th>is_month_end</th>\n",
       "      <th>is_quarter_start</th>\n",
       "      <th>is_quarter_end</th>\n",
       "      <th>is_year_start</th>\n",
       "      <th>is_year_end</th>\n",
       "      <th>season</th>\n",
       "    </tr>\n",
       "  </thead>\n",
       "  <tbody>\n",
       "    <tr>\n",
       "      <th>0</th>\n",
       "      <td>2015-11-23</td>\n",
       "      <td>2086.590088</td>\n",
       "      <td>2095.610107</td>\n",
       "      <td>2081.389893</td>\n",
       "      <td>2089.409912</td>\n",
       "      <td>11</td>\n",
       "      <td>23</td>\n",
       "      <td>327</td>\n",
       "      <td>4</td>\n",
       "      <td>1</td>\n",
       "      <td>2015</td>\n",
       "      <td>0</td>\n",
       "      <td>4</td>\n",
       "      <td>0</td>\n",
       "      <td>0</td>\n",
       "      <td>0</td>\n",
       "      <td>0</td>\n",
       "      <td>0</td>\n",
       "      <td>0</td>\n",
       "      <td>3</td>\n",
       "    </tr>\n",
       "    <tr>\n",
       "      <th>1</th>\n",
       "      <td>2015-11-24</td>\n",
       "      <td>2089.139893</td>\n",
       "      <td>2094.120117</td>\n",
       "      <td>2070.290039</td>\n",
       "      <td>2084.419922</td>\n",
       "      <td>11</td>\n",
       "      <td>24</td>\n",
       "      <td>328</td>\n",
       "      <td>4</td>\n",
       "      <td>2</td>\n",
       "      <td>2015</td>\n",
       "      <td>0</td>\n",
       "      <td>4</td>\n",
       "      <td>0</td>\n",
       "      <td>0</td>\n",
       "      <td>0</td>\n",
       "      <td>0</td>\n",
       "      <td>0</td>\n",
       "      <td>0</td>\n",
       "      <td>3</td>\n",
       "    </tr>\n",
       "    <tr>\n",
       "      <th>2</th>\n",
       "      <td>2015-11-25</td>\n",
       "      <td>2088.870117</td>\n",
       "      <td>2093.000000</td>\n",
       "      <td>2086.300049</td>\n",
       "      <td>2089.300049</td>\n",
       "      <td>11</td>\n",
       "      <td>25</td>\n",
       "      <td>329</td>\n",
       "      <td>4</td>\n",
       "      <td>3</td>\n",
       "      <td>2015</td>\n",
       "      <td>0</td>\n",
       "      <td>4</td>\n",
       "      <td>0</td>\n",
       "      <td>0</td>\n",
       "      <td>0</td>\n",
       "      <td>0</td>\n",
       "      <td>0</td>\n",
       "      <td>0</td>\n",
       "      <td>3</td>\n",
       "    </tr>\n",
       "    <tr>\n",
       "      <th>3</th>\n",
       "      <td>2015-11-26</td>\n",
       "      <td>2088.870117</td>\n",
       "      <td>2093.000000</td>\n",
       "      <td>2086.300049</td>\n",
       "      <td>2089.300049</td>\n",
       "      <td>11</td>\n",
       "      <td>26</td>\n",
       "      <td>330</td>\n",
       "      <td>4</td>\n",
       "      <td>4</td>\n",
       "      <td>2015</td>\n",
       "      <td>0</td>\n",
       "      <td>4</td>\n",
       "      <td>0</td>\n",
       "      <td>0</td>\n",
       "      <td>0</td>\n",
       "      <td>0</td>\n",
       "      <td>0</td>\n",
       "      <td>0</td>\n",
       "      <td>3</td>\n",
       "    </tr>\n",
       "    <tr>\n",
       "      <th>4</th>\n",
       "      <td>2015-11-27</td>\n",
       "      <td>2090.110107</td>\n",
       "      <td>2093.290039</td>\n",
       "      <td>2084.129883</td>\n",
       "      <td>2088.820068</td>\n",
       "      <td>11</td>\n",
       "      <td>27</td>\n",
       "      <td>331</td>\n",
       "      <td>4</td>\n",
       "      <td>5</td>\n",
       "      <td>2015</td>\n",
       "      <td>1</td>\n",
       "      <td>4</td>\n",
       "      <td>0</td>\n",
       "      <td>0</td>\n",
       "      <td>0</td>\n",
       "      <td>0</td>\n",
       "      <td>0</td>\n",
       "      <td>0</td>\n",
       "      <td>3</td>\n",
       "    </tr>\n",
       "  </tbody>\n",
       "</table>\n",
       "</div>"
      ],
      "text/plain": [
       "        Date        Close         High          Low         Open  month  \\\n",
       "0 2015-11-23  2086.590088  2095.610107  2081.389893  2089.409912     11   \n",
       "1 2015-11-24  2089.139893  2094.120117  2070.290039  2084.419922     11   \n",
       "2 2015-11-25  2088.870117  2093.000000  2086.300049  2089.300049     11   \n",
       "3 2015-11-26  2088.870117  2093.000000  2086.300049  2089.300049     11   \n",
       "4 2015-11-27  2090.110107  2093.290039  2084.129883  2088.820068     11   \n",
       "\n",
       "   day_of_month  day_of_year  week_of_month  day_of_week  year  is_wknd  \\\n",
       "0            23          327              4            1  2015        0   \n",
       "1            24          328              4            2  2015        0   \n",
       "2            25          329              4            3  2015        0   \n",
       "3            26          330              4            4  2015        0   \n",
       "4            27          331              4            5  2015        1   \n",
       "\n",
       "   quarter  is_month_start  is_month_end  is_quarter_start  is_quarter_end  \\\n",
       "0        4               0             0                 0               0   \n",
       "1        4               0             0                 0               0   \n",
       "2        4               0             0                 0               0   \n",
       "3        4               0             0                 0               0   \n",
       "4        4               0             0                 0               0   \n",
       "\n",
       "   is_year_start  is_year_end  season  \n",
       "0              0            0       3  \n",
       "1              0            0       3  \n",
       "2              0            0       3  \n",
       "3              0            0       3  \n",
       "4              0            0       3  "
      ]
     },
     "execution_count": 6,
     "metadata": {},
     "output_type": "execute_result"
    }
   ],
   "source": [
    "# Anwenden der vorher definierten Funktion auf den Datensatz df\n",
    "temp = create_date_features(df)\n",
    "# Anzeigen der ersten fünf Einträge\n",
    "temp.head()"
   ]
  },
  {
   "cell_type": "code",
   "execution_count": 7,
   "id": "71a7f46f",
   "metadata": {
    "execution": {
     "iopub.execute_input": "2025-01-24T13:46:55.269304Z",
     "iopub.status.busy": "2025-01-24T13:46:55.267888Z",
     "iopub.status.idle": "2025-01-24T13:46:56.284882Z",
     "shell.execute_reply": "2025-01-24T13:46:56.283624Z"
    },
    "papermill": {
     "duration": 1.026701,
     "end_time": "2025-01-24T13:46:56.287512",
     "exception": false,
     "start_time": "2025-01-24T13:46:55.260811",
     "status": "completed"
    },
    "tags": []
   },
   "outputs": [],
   "source": [
    "# Importieren von weiteren wichtigen Bibliotheken\n",
    "\n",
    "import seaborn as sns\n",
    "import math\n",
    "\n",
    "from scipy.signal import periodogram\n",
    "from statsmodels.graphics.tsaplots import plot_pacf\n",
    "from statsmodels.tsa.deterministic import CalendarFourier, DeterministicProcess, Fourier"
   ]
  },
  {
   "cell_type": "code",
   "execution_count": 8,
   "id": "659d7fe0",
   "metadata": {
    "execution": {
     "iopub.execute_input": "2025-01-24T13:46:56.300806Z",
     "iopub.status.busy": "2025-01-24T13:46:56.300210Z",
     "iopub.status.idle": "2025-01-24T13:46:56.382191Z",
     "shell.execute_reply": "2025-01-24T13:46:56.380553Z"
    },
    "papermill": {
     "duration": 0.091332,
     "end_time": "2025-01-24T13:46:56.384584",
     "exception": false,
     "start_time": "2025-01-24T13:46:56.293252",
     "status": "completed"
    },
    "tags": []
   },
   "outputs": [
    {
     "name": "stdout",
     "output_type": "stream",
     "text": [
      "(1825, 27)\n"
     ]
    },
    {
     "name": "stderr",
     "output_type": "stream",
     "text": [
      "/opt/conda/lib/python3.10/site-packages/statsmodels/tsa/deterministic.py:569: FutureWarning: 'Y' is deprecated and will be removed in a future version, please use 'YE' instead.\n",
      "  index = pd.date_range(\"2020-01-01\", freq=freq, periods=1)\n"
     ]
    },
    {
     "data": {
      "text/html": [
       "<div>\n",
       "<style scoped>\n",
       "    .dataframe tbody tr th:only-of-type {\n",
       "        vertical-align: middle;\n",
       "    }\n",
       "\n",
       "    .dataframe tbody tr th {\n",
       "        vertical-align: top;\n",
       "    }\n",
       "\n",
       "    .dataframe thead th {\n",
       "        text-align: right;\n",
       "    }\n",
       "</style>\n",
       "<table border=\"1\" class=\"dataframe\">\n",
       "  <thead>\n",
       "    <tr style=\"text-align: right;\">\n",
       "      <th></th>\n",
       "      <th>Date</th>\n",
       "      <th>Close</th>\n",
       "      <th>High</th>\n",
       "      <th>Low</th>\n",
       "      <th>Open</th>\n",
       "      <th>month</th>\n",
       "      <th>day_of_month</th>\n",
       "      <th>day_of_year</th>\n",
       "      <th>week_of_month</th>\n",
       "      <th>day_of_week</th>\n",
       "      <th>...</th>\n",
       "      <th>is_year_start</th>\n",
       "      <th>is_year_end</th>\n",
       "      <th>season</th>\n",
       "      <th>trend</th>\n",
       "      <th>sin(1,freq=YE-DEC)</th>\n",
       "      <th>cos(1,freq=YE-DEC)</th>\n",
       "      <th>sin(2,freq=YE-DEC)</th>\n",
       "      <th>cos(2,freq=YE-DEC)</th>\n",
       "      <th>sin(3,freq=YE-DEC)</th>\n",
       "      <th>cos(3,freq=YE-DEC)</th>\n",
       "    </tr>\n",
       "  </thead>\n",
       "  <tbody>\n",
       "    <tr>\n",
       "      <th>0</th>\n",
       "      <td>2015-11-23</td>\n",
       "      <td>2086.590088</td>\n",
       "      <td>2095.610107</td>\n",
       "      <td>2081.389893</td>\n",
       "      <td>2089.409912</td>\n",
       "      <td>11</td>\n",
       "      <td>23</td>\n",
       "      <td>327</td>\n",
       "      <td>4</td>\n",
       "      <td>1</td>\n",
       "      <td>...</td>\n",
       "      <td>0</td>\n",
       "      <td>0</td>\n",
       "      <td>3</td>\n",
       "      <td>1.0</td>\n",
       "      <td>-0.622047</td>\n",
       "      <td>0.782980</td>\n",
       "      <td>-0.974100</td>\n",
       "      <td>0.226116</td>\n",
       "      <td>-0.903356</td>\n",
       "      <td>-0.428892</td>\n",
       "    </tr>\n",
       "    <tr>\n",
       "      <th>1</th>\n",
       "      <td>2015-11-24</td>\n",
       "      <td>2089.139893</td>\n",
       "      <td>2094.120117</td>\n",
       "      <td>2070.290039</td>\n",
       "      <td>2084.419922</td>\n",
       "      <td>11</td>\n",
       "      <td>24</td>\n",
       "      <td>328</td>\n",
       "      <td>4</td>\n",
       "      <td>2</td>\n",
       "      <td>...</td>\n",
       "      <td>0</td>\n",
       "      <td>0</td>\n",
       "      <td>3</td>\n",
       "      <td>2.0</td>\n",
       "      <td>-0.608477</td>\n",
       "      <td>0.793572</td>\n",
       "      <td>-0.965740</td>\n",
       "      <td>0.259512</td>\n",
       "      <td>-0.924291</td>\n",
       "      <td>-0.381689</td>\n",
       "    </tr>\n",
       "    <tr>\n",
       "      <th>2</th>\n",
       "      <td>2015-11-25</td>\n",
       "      <td>2088.870117</td>\n",
       "      <td>2093.000000</td>\n",
       "      <td>2086.300049</td>\n",
       "      <td>2089.300049</td>\n",
       "      <td>11</td>\n",
       "      <td>25</td>\n",
       "      <td>329</td>\n",
       "      <td>4</td>\n",
       "      <td>3</td>\n",
       "      <td>...</td>\n",
       "      <td>0</td>\n",
       "      <td>0</td>\n",
       "      <td>3</td>\n",
       "      <td>3.0</td>\n",
       "      <td>-0.594727</td>\n",
       "      <td>0.803928</td>\n",
       "      <td>-0.956235</td>\n",
       "      <td>0.292600</td>\n",
       "      <td>-0.942761</td>\n",
       "      <td>-0.333469</td>\n",
       "    </tr>\n",
       "    <tr>\n",
       "      <th>3</th>\n",
       "      <td>2015-11-26</td>\n",
       "      <td>2088.870117</td>\n",
       "      <td>2093.000000</td>\n",
       "      <td>2086.300049</td>\n",
       "      <td>2089.300049</td>\n",
       "      <td>11</td>\n",
       "      <td>26</td>\n",
       "      <td>330</td>\n",
       "      <td>4</td>\n",
       "      <td>4</td>\n",
       "      <td>...</td>\n",
       "      <td>0</td>\n",
       "      <td>0</td>\n",
       "      <td>3</td>\n",
       "      <td>4.0</td>\n",
       "      <td>-0.580800</td>\n",
       "      <td>0.814046</td>\n",
       "      <td>-0.945596</td>\n",
       "      <td>0.325342</td>\n",
       "      <td>-0.958718</td>\n",
       "      <td>-0.284359</td>\n",
       "    </tr>\n",
       "    <tr>\n",
       "      <th>4</th>\n",
       "      <td>2015-11-27</td>\n",
       "      <td>2090.110107</td>\n",
       "      <td>2093.290039</td>\n",
       "      <td>2084.129883</td>\n",
       "      <td>2088.820068</td>\n",
       "      <td>11</td>\n",
       "      <td>27</td>\n",
       "      <td>331</td>\n",
       "      <td>4</td>\n",
       "      <td>5</td>\n",
       "      <td>...</td>\n",
       "      <td>0</td>\n",
       "      <td>0</td>\n",
       "      <td>3</td>\n",
       "      <td>5.0</td>\n",
       "      <td>-0.566702</td>\n",
       "      <td>0.823923</td>\n",
       "      <td>-0.933837</td>\n",
       "      <td>0.357698</td>\n",
       "      <td>-0.972118</td>\n",
       "      <td>-0.234491</td>\n",
       "    </tr>\n",
       "  </tbody>\n",
       "</table>\n",
       "<p>5 rows × 27 columns</p>\n",
       "</div>"
      ],
      "text/plain": [
       "        Date        Close         High          Low         Open  month  \\\n",
       "0 2015-11-23  2086.590088  2095.610107  2081.389893  2089.409912     11   \n",
       "1 2015-11-24  2089.139893  2094.120117  2070.290039  2084.419922     11   \n",
       "2 2015-11-25  2088.870117  2093.000000  2086.300049  2089.300049     11   \n",
       "3 2015-11-26  2088.870117  2093.000000  2086.300049  2089.300049     11   \n",
       "4 2015-11-27  2090.110107  2093.290039  2084.129883  2088.820068     11   \n",
       "\n",
       "   day_of_month  day_of_year  week_of_month  day_of_week  ...  is_year_start  \\\n",
       "0            23          327              4            1  ...              0   \n",
       "1            24          328              4            2  ...              0   \n",
       "2            25          329              4            3  ...              0   \n",
       "3            26          330              4            4  ...              0   \n",
       "4            27          331              4            5  ...              0   \n",
       "\n",
       "   is_year_end  season  trend  sin(1,freq=YE-DEC)  cos(1,freq=YE-DEC)  \\\n",
       "0            0       3    1.0           -0.622047            0.782980   \n",
       "1            0       3    2.0           -0.608477            0.793572   \n",
       "2            0       3    3.0           -0.594727            0.803928   \n",
       "3            0       3    4.0           -0.580800            0.814046   \n",
       "4            0       3    5.0           -0.566702            0.823923   \n",
       "\n",
       "   sin(2,freq=YE-DEC)  cos(2,freq=YE-DEC)  sin(3,freq=YE-DEC)  \\\n",
       "0           -0.974100            0.226116           -0.903356   \n",
       "1           -0.965740            0.259512           -0.924291   \n",
       "2           -0.956235            0.292600           -0.942761   \n",
       "3           -0.945596            0.325342           -0.958718   \n",
       "4           -0.933837            0.357698           -0.972118   \n",
       "\n",
       "   cos(3,freq=YE-DEC)  \n",
       "0           -0.428892  \n",
       "1           -0.381689  \n",
       "2           -0.333469  \n",
       "3           -0.284359  \n",
       "4           -0.234491  \n",
       "\n",
       "[5 rows x 27 columns]"
      ]
     },
     "execution_count": 8,
     "metadata": {},
     "output_type": "execute_result"
    }
   ],
   "source": [
    "# Fourier-Transformation und deterministischer Prozess, um saisonale und trendbezogene Zeitfeatures zu generieren und diese mit den Originaldaten zu kombinieren, um die Modellierung zeitabhängiger Muster zu verbessern.\n",
    "fourier = CalendarFourier(freq = 'Y', order = 3)  # Fourier-Transformation für saisonale Komponenten 'Y' steht für jährlich, 'order=3' gibt die Anzahl der Fourier-Terme an\n",
    "dp = DeterministicProcess(index = temp.Date,\n",
    "                          order = 1,  # lineare Trendkomponente\n",
    "                          seasonal = False,  # Keine Saisonalität, da dies durch die Fourier-Terme abgedeckt wird\n",
    "                          constant = False,  # Keine Konstante hinzufügen\n",
    "                          additional_terms = [fourier],  # Hinzufügen von Fourier-Termen für die Saisonalität\n",
    "                          drop = True)  # Dropt Originalterme\n",
    "time = dp.in_sample()  # Generiert deterministische Zeitfeatures (regelmäßige Muster in Zeitreihendaten)\n",
    "\n",
    "time = time.reset_index()  # Index zurücksetzen, um 'Date' als normale Spalte zu haben\n",
    "\n",
    "temp_join = pd.merge(temp, time, how='inner', left_on='Date', right_on='Date')  # Zusammenführen von Original- und Zeitfeatures basierend auf der 'Date'-Spalte\n",
    "print(temp_join.shape)  # Ausgabe der Dimensionen von 'temp_join'\n",
    "\n",
    "temp_join.head()  # Anzeigen der ersten Zeilen von 'temp_join'"
   ]
  },
  {
   "cell_type": "code",
   "execution_count": 9,
   "id": "bc0b3adb",
   "metadata": {
    "execution": {
     "iopub.execute_input": "2025-01-24T13:46:56.399156Z",
     "iopub.status.busy": "2025-01-24T13:46:56.398736Z",
     "iopub.status.idle": "2025-01-24T13:46:56.631383Z",
     "shell.execute_reply": "2025-01-24T13:46:56.630332Z"
    },
    "papermill": {
     "duration": 0.243393,
     "end_time": "2025-01-24T13:46:56.634113",
     "exception": false,
     "start_time": "2025-01-24T13:46:56.390720",
     "status": "completed"
    },
    "tags": []
   },
   "outputs": [],
   "source": [
    "# Importieren von weiteren wichtigen Bibliotheken\n",
    "\n",
    "from keras.models import Sequential\n",
    "from keras.layers import Dense, LSTM\n",
    "from tensorflow.keras.preprocessing.sequence import TimeseriesGenerator\n",
    "\n",
    "from sklearn.model_selection import train_test_split\n",
    "from sklearn.preprocessing import MinMaxScaler\n",
    "from sklearn.metrics import mean_squared_error\n",
    "from sklearn.metrics import mean_absolute_percentage_error"
   ]
  },
  {
   "cell_type": "code",
   "execution_count": 10,
   "id": "95ad1cd8",
   "metadata": {
    "execution": {
     "iopub.execute_input": "2025-01-24T13:46:56.648122Z",
     "iopub.status.busy": "2025-01-24T13:46:56.647585Z",
     "iopub.status.idle": "2025-01-24T13:46:56.671843Z",
     "shell.execute_reply": "2025-01-24T13:46:56.670704Z"
    },
    "papermill": {
     "duration": 0.034142,
     "end_time": "2025-01-24T13:46:56.674537",
     "exception": false,
     "start_time": "2025-01-24T13:46:56.640395",
     "status": "completed"
    },
    "tags": []
   },
   "outputs": [
    {
     "data": {
      "text/html": [
       "<div>\n",
       "<style scoped>\n",
       "    .dataframe tbody tr th:only-of-type {\n",
       "        vertical-align: middle;\n",
       "    }\n",
       "\n",
       "    .dataframe tbody tr th {\n",
       "        vertical-align: top;\n",
       "    }\n",
       "\n",
       "    .dataframe thead th {\n",
       "        text-align: right;\n",
       "    }\n",
       "</style>\n",
       "<table border=\"1\" class=\"dataframe\">\n",
       "  <thead>\n",
       "    <tr style=\"text-align: right;\">\n",
       "      <th></th>\n",
       "      <th>Close</th>\n",
       "      <th>High</th>\n",
       "      <th>Low</th>\n",
       "      <th>Open</th>\n",
       "      <th>month</th>\n",
       "      <th>day_of_month</th>\n",
       "      <th>day_of_year</th>\n",
       "      <th>week_of_month</th>\n",
       "      <th>day_of_week</th>\n",
       "      <th>year</th>\n",
       "      <th>...</th>\n",
       "      <th>is_year_start</th>\n",
       "      <th>is_year_end</th>\n",
       "      <th>season</th>\n",
       "      <th>trend</th>\n",
       "      <th>sin(1,freq=YE-DEC)</th>\n",
       "      <th>cos(1,freq=YE-DEC)</th>\n",
       "      <th>sin(2,freq=YE-DEC)</th>\n",
       "      <th>cos(2,freq=YE-DEC)</th>\n",
       "      <th>sin(3,freq=YE-DEC)</th>\n",
       "      <th>cos(3,freq=YE-DEC)</th>\n",
       "    </tr>\n",
       "    <tr>\n",
       "      <th>Date</th>\n",
       "      <th></th>\n",
       "      <th></th>\n",
       "      <th></th>\n",
       "      <th></th>\n",
       "      <th></th>\n",
       "      <th></th>\n",
       "      <th></th>\n",
       "      <th></th>\n",
       "      <th></th>\n",
       "      <th></th>\n",
       "      <th></th>\n",
       "      <th></th>\n",
       "      <th></th>\n",
       "      <th></th>\n",
       "      <th></th>\n",
       "      <th></th>\n",
       "      <th></th>\n",
       "      <th></th>\n",
       "      <th></th>\n",
       "      <th></th>\n",
       "      <th></th>\n",
       "    </tr>\n",
       "  </thead>\n",
       "  <tbody>\n",
       "    <tr>\n",
       "      <th>2015-11-23</th>\n",
       "      <td>2086.590088</td>\n",
       "      <td>2095.610107</td>\n",
       "      <td>2081.389893</td>\n",
       "      <td>2089.409912</td>\n",
       "      <td>11</td>\n",
       "      <td>23</td>\n",
       "      <td>327</td>\n",
       "      <td>4</td>\n",
       "      <td>1</td>\n",
       "      <td>2015</td>\n",
       "      <td>...</td>\n",
       "      <td>0</td>\n",
       "      <td>0</td>\n",
       "      <td>3</td>\n",
       "      <td>1.0</td>\n",
       "      <td>-0.622047</td>\n",
       "      <td>0.782980</td>\n",
       "      <td>-0.974100</td>\n",
       "      <td>0.226116</td>\n",
       "      <td>-0.903356</td>\n",
       "      <td>-0.428892</td>\n",
       "    </tr>\n",
       "    <tr>\n",
       "      <th>2015-11-24</th>\n",
       "      <td>2089.139893</td>\n",
       "      <td>2094.120117</td>\n",
       "      <td>2070.290039</td>\n",
       "      <td>2084.419922</td>\n",
       "      <td>11</td>\n",
       "      <td>24</td>\n",
       "      <td>328</td>\n",
       "      <td>4</td>\n",
       "      <td>2</td>\n",
       "      <td>2015</td>\n",
       "      <td>...</td>\n",
       "      <td>0</td>\n",
       "      <td>0</td>\n",
       "      <td>3</td>\n",
       "      <td>2.0</td>\n",
       "      <td>-0.608477</td>\n",
       "      <td>0.793572</td>\n",
       "      <td>-0.965740</td>\n",
       "      <td>0.259512</td>\n",
       "      <td>-0.924291</td>\n",
       "      <td>-0.381689</td>\n",
       "    </tr>\n",
       "    <tr>\n",
       "      <th>2015-11-25</th>\n",
       "      <td>2088.870117</td>\n",
       "      <td>2093.000000</td>\n",
       "      <td>2086.300049</td>\n",
       "      <td>2089.300049</td>\n",
       "      <td>11</td>\n",
       "      <td>25</td>\n",
       "      <td>329</td>\n",
       "      <td>4</td>\n",
       "      <td>3</td>\n",
       "      <td>2015</td>\n",
       "      <td>...</td>\n",
       "      <td>0</td>\n",
       "      <td>0</td>\n",
       "      <td>3</td>\n",
       "      <td>3.0</td>\n",
       "      <td>-0.594727</td>\n",
       "      <td>0.803928</td>\n",
       "      <td>-0.956235</td>\n",
       "      <td>0.292600</td>\n",
       "      <td>-0.942761</td>\n",
       "      <td>-0.333469</td>\n",
       "    </tr>\n",
       "  </tbody>\n",
       "</table>\n",
       "<p>3 rows × 26 columns</p>\n",
       "</div>"
      ],
      "text/plain": [
       "                  Close         High          Low         Open  month  \\\n",
       "Date                                                                    \n",
       "2015-11-23  2086.590088  2095.610107  2081.389893  2089.409912     11   \n",
       "2015-11-24  2089.139893  2094.120117  2070.290039  2084.419922     11   \n",
       "2015-11-25  2088.870117  2093.000000  2086.300049  2089.300049     11   \n",
       "\n",
       "            day_of_month  day_of_year  week_of_month  day_of_week  year  ...  \\\n",
       "Date                                                                     ...   \n",
       "2015-11-23            23          327              4            1  2015  ...   \n",
       "2015-11-24            24          328              4            2  2015  ...   \n",
       "2015-11-25            25          329              4            3  2015  ...   \n",
       "\n",
       "            is_year_start  is_year_end  season  trend  sin(1,freq=YE-DEC)  \\\n",
       "Date                                                                        \n",
       "2015-11-23              0            0       3    1.0           -0.622047   \n",
       "2015-11-24              0            0       3    2.0           -0.608477   \n",
       "2015-11-25              0            0       3    3.0           -0.594727   \n",
       "\n",
       "            cos(1,freq=YE-DEC)  sin(2,freq=YE-DEC)  cos(2,freq=YE-DEC)  \\\n",
       "Date                                                                     \n",
       "2015-11-23            0.782980           -0.974100            0.226116   \n",
       "2015-11-24            0.793572           -0.965740            0.259512   \n",
       "2015-11-25            0.803928           -0.956235            0.292600   \n",
       "\n",
       "            sin(3,freq=YE-DEC)  cos(3,freq=YE-DEC)  \n",
       "Date                                                \n",
       "2015-11-23           -0.903356           -0.428892  \n",
       "2015-11-24           -0.924291           -0.381689  \n",
       "2015-11-25           -0.942761           -0.333469  \n",
       "\n",
       "[3 rows x 26 columns]"
      ]
     },
     "execution_count": 10,
     "metadata": {},
     "output_type": "execute_result"
    }
   ],
   "source": [
    "temp_join = temp_join.set_index(['Date'])  # Setzt 'Date' als Index\n",
    "temp_join.head(3)  # Zeigt die ersten 3 Zeilen von 'temp_join' an"
   ]
  },
  {
   "cell_type": "code",
   "execution_count": 11,
   "id": "c2a307bf",
   "metadata": {
    "execution": {
     "iopub.execute_input": "2025-01-24T13:46:56.688734Z",
     "iopub.status.busy": "2025-01-24T13:46:56.688353Z",
     "iopub.status.idle": "2025-01-24T13:46:56.693803Z",
     "shell.execute_reply": "2025-01-24T13:46:56.692815Z"
    },
    "papermill": {
     "duration": 0.01535,
     "end_time": "2025-01-24T13:46:56.696239",
     "exception": false,
     "start_time": "2025-01-24T13:46:56.680889",
     "status": "completed"
    },
    "tags": []
   },
   "outputs": [],
   "source": [
    "# Festlegung der größe des Train- und Testdatensatzes\n",
    "\n",
    "train_size = int(0.85 * len(temp_join))\n",
    "test_size = len(temp_join) - train_size"
   ]
  },
  {
   "cell_type": "code",
   "execution_count": 12,
   "id": "6d178f6c",
   "metadata": {
    "execution": {
     "iopub.execute_input": "2025-01-24T13:46:56.710458Z",
     "iopub.status.busy": "2025-01-24T13:46:56.710079Z",
     "iopub.status.idle": "2025-01-24T13:46:56.718200Z",
     "shell.execute_reply": "2025-01-24T13:46:56.717044Z"
    },
    "papermill": {
     "duration": 0.017597,
     "end_time": "2025-01-24T13:46:56.720216",
     "exception": false,
     "start_time": "2025-01-24T13:46:56.702619",
     "status": "completed"
    },
    "tags": []
   },
   "outputs": [
    {
     "data": {
      "text/plain": [
       "((1551, 26), (274, 26))"
      ]
     },
     "execution_count": 12,
     "metadata": {},
     "output_type": "execute_result"
    }
   ],
   "source": [
    "# Aufteilung in Train- und Testdatensatz\n",
    "train_set, test_set = temp_join.iloc[:-test_size, :], temp_join.iloc[-test_size: , :]\n",
    "train_set.shape, test_set.shape"
   ]
  },
  {
   "cell_type": "code",
   "execution_count": 13,
   "id": "10c8a48d",
   "metadata": {
    "execution": {
     "iopub.execute_input": "2025-01-24T13:46:56.734843Z",
     "iopub.status.busy": "2025-01-24T13:46:56.734445Z",
     "iopub.status.idle": "2025-01-24T13:46:56.755592Z",
     "shell.execute_reply": "2025-01-24T13:46:56.753944Z"
    },
    "papermill": {
     "duration": 0.031486,
     "end_time": "2025-01-24T13:46:56.758287",
     "exception": false,
     "start_time": "2025-01-24T13:46:56.726801",
     "status": "completed"
    },
    "tags": []
   },
   "outputs": [
    {
     "data": {
      "text/plain": [
       "((1551, 26), (274, 26))"
      ]
     },
     "execution_count": 13,
     "metadata": {},
     "output_type": "execute_result"
    }
   ],
   "source": [
    "# Skalieren der Daten mittels MinMaxScaler auf Werte zwischen -1 und 0\n",
    "\n",
    "scaler = MinMaxScaler(feature_range=(-1, 0))\n",
    "\n",
    "train_scaled = scaler.fit_transform(train_set)\n",
    "test_scaled = scaler.transform(test_set)\n",
    "\n",
    "train_scaled.shape, test_scaled.shape"
   ]
  },
  {
   "cell_type": "code",
   "execution_count": 14,
   "id": "a63c4415",
   "metadata": {
    "execution": {
     "iopub.execute_input": "2025-01-24T13:46:56.778817Z",
     "iopub.status.busy": "2025-01-24T13:46:56.778441Z",
     "iopub.status.idle": "2025-01-24T13:46:56.786150Z",
     "shell.execute_reply": "2025-01-24T13:46:56.785022Z"
    },
    "papermill": {
     "duration": 0.019522,
     "end_time": "2025-01-24T13:46:56.788404",
     "exception": false,
     "start_time": "2025-01-24T13:46:56.768882",
     "status": "completed"
    },
    "tags": []
   },
   "outputs": [
    {
     "data": {
      "text/plain": [
       "(1825, 26)"
      ]
     },
     "execution_count": 14,
     "metadata": {},
     "output_type": "execute_result"
    }
   ],
   "source": [
    "scaled_data = np.append(train_scaled, test_scaled, axis=0)  # Kombiniert skalierte Train- und Testdaten\n",
    "scaled_data.shape  # Gibt die Form von 'scaled_data' aus"
   ]
  },
  {
   "cell_type": "code",
   "execution_count": 15,
   "id": "a95964ed",
   "metadata": {
    "execution": {
     "iopub.execute_input": "2025-01-24T13:46:56.803792Z",
     "iopub.status.busy": "2025-01-24T13:46:56.803374Z",
     "iopub.status.idle": "2025-01-24T13:46:56.818209Z",
     "shell.execute_reply": "2025-01-24T13:46:56.817031Z"
    },
    "papermill": {
     "duration": 0.025505,
     "end_time": "2025-01-24T13:46:56.820723",
     "exception": false,
     "start_time": "2025-01-24T13:46:56.795218",
     "status": "completed"
    },
    "tags": []
   },
   "outputs": [
    {
     "name": "stdout",
     "output_type": "stream",
     "text": [
      "1511 274\n",
      "[[[-0.83461878 -0.83298121 -0.83315447 ... -0.85668593 -0.88228529\n",
      "   -0.88228529]]\n",
      "\n",
      " [[-0.83298121 -0.83315447 -0.83315447 ... -0.88228529 -0.88228529\n",
      "   -0.88228529]]\n",
      "\n",
      " [[-0.83315447 -0.83315447 -0.83235811 ... -0.88228529 -0.88228529\n",
      "   -0.87613916]]\n",
      "\n",
      " ...\n",
      "\n",
      " [[-0.07157671 -0.07758149 -0.07758149 ... -0.05823755 -0.0915309\n",
      "   -0.07058765]]\n",
      "\n",
      " [[-0.07758149 -0.07758149 -0.07758149 ... -0.0915309  -0.07058765\n",
      "   -0.07241165]]\n",
      "\n",
      " [[-0.07758149 -0.07758149 -0.06295158 ... -0.07058765 -0.07241165\n",
      "   -0.06582234]]]\n",
      "[-0.88228529 -0.87613916 -0.86235039 ... -0.07241165 -0.06582234\n",
      " -0.10316164]\n"
     ]
    }
   ],
   "source": [
    "train_size = train_set.shape[0]  # Anzahl der Trainingsdaten\n",
    "test_size = test_set.shape[0]  # Anzahl der Testdaten\n",
    "\n",
    "# Festlegung der Anzahl der Tage für die Vorhersage\n",
    "look_back = 20\n",
    "# Aufteilung in Train- und Testset\n",
    "train, test = scaled_data[:train_size-look_back,:], scaled_data[train_size-look_back:,:]\n",
    "\n",
    "def create_dataset(dataset, look_back=1):\n",
    "    X, Y = [], []\n",
    "    for i in range(look_back, len(dataset)): # Schleife über dataset beginnend bei 'look_back'\n",
    "        a = dataset[i-look_back:i, 0] # Sequenz von look_back vor dem aktuellen Zeitschritt i\n",
    "        X.append(a) # hinzufügen von a zur Liste X\n",
    "        Y.append(dataset[i, 0]) # Der Wert im Dataset am aktuellen Zeitschritt i\n",
    "    return np.array(X), np.array(Y) # Umwandlung in numpy-Arrays\n",
    "\n",
    "x_train, y_train = create_dataset(train, look_back)  # Erstellen des Trainingsdatensatzes\n",
    "x_test, y_test = create_dataset(test, look_back)  # Erstellen des Testdatensatzes\n",
    "\n",
    "# Umformung der Eingabe in [Samples, Zeitschritte, Features]\n",
    "x_train = np.reshape(x_train, (x_train.shape[0], 1, x_train.shape[1]))  # Umformung der Trainingsdaten\n",
    "x_test = np.reshape(x_test, (x_test.shape[0], 1, x_test.shape[1]))  # Umformung der Testdaten\n",
    "\n",
    "print(len(x_train), len(x_test))  # Ausgabe der Länge der Trainings- und Testdaten\n",
    "print(x_train)\n",
    "print(y_train)"
   ]
  },
  {
   "cell_type": "code",
   "execution_count": 16,
   "id": "5ec36b8f",
   "metadata": {
    "execution": {
     "iopub.execute_input": "2025-01-24T13:46:56.835981Z",
     "iopub.status.busy": "2025-01-24T13:46:56.835559Z",
     "iopub.status.idle": "2025-01-24T13:46:57.109338Z",
     "shell.execute_reply": "2025-01-24T13:46:57.107987Z"
    },
    "papermill": {
     "duration": 0.284,
     "end_time": "2025-01-24T13:46:57.111596",
     "exception": false,
     "start_time": "2025-01-24T13:46:56.827596",
     "status": "completed"
    },
    "tags": []
   },
   "outputs": [
    {
     "name": "stderr",
     "output_type": "stream",
     "text": [
      "/opt/conda/lib/python3.10/site-packages/keras/src/layers/rnn/rnn.py:204: UserWarning: Do not pass an `input_shape`/`input_dim` argument to a layer. When using Sequential models, prefer using an `Input(shape)` object as the first layer in the model instead.\n",
      "  super().__init__(**kwargs)\n",
      "/opt/conda/lib/python3.10/site-packages/keras/src/layers/activations/leaky_relu.py:41: UserWarning: Argument `alpha` is deprecated. Use `negative_slope` instead.\n",
      "  warnings.warn(\n"
     ]
    },
    {
     "data": {
      "text/html": [
       "<pre style=\"white-space:pre;overflow-x:auto;line-height:normal;font-family:Menlo,'DejaVu Sans Mono',consolas,'Courier New',monospace\"><span style=\"font-weight: bold\">Model: \"sequential\"</span>\n",
       "</pre>\n"
      ],
      "text/plain": [
       "\u001b[1mModel: \"sequential\"\u001b[0m\n"
      ]
     },
     "metadata": {},
     "output_type": "display_data"
    },
    {
     "data": {
      "text/html": [
       "<pre style=\"white-space:pre;overflow-x:auto;line-height:normal;font-family:Menlo,'DejaVu Sans Mono',consolas,'Courier New',monospace\">┏━━━━━━━━━━━━━━━━━━━━━━━━━━━━━━━━━┳━━━━━━━━━━━━━━━━━━━━━━━━┳━━━━━━━━━━━━━━━┓\n",
       "┃<span style=\"font-weight: bold\"> Layer (type)                    </span>┃<span style=\"font-weight: bold\"> Output Shape           </span>┃<span style=\"font-weight: bold\">       Param # </span>┃\n",
       "┡━━━━━━━━━━━━━━━━━━━━━━━━━━━━━━━━━╇━━━━━━━━━━━━━━━━━━━━━━━━╇━━━━━━━━━━━━━━━┩\n",
       "│ lstm (<span style=\"color: #0087ff; text-decoration-color: #0087ff\">LSTM</span>)                     │ (<span style=\"color: #00d7ff; text-decoration-color: #00d7ff\">None</span>, <span style=\"color: #00af00; text-decoration-color: #00af00\">1</span>, <span style=\"color: #00af00; text-decoration-color: #00af00\">256</span>)         │       <span style=\"color: #00af00; text-decoration-color: #00af00\">283,648</span> │\n",
       "├─────────────────────────────────┼────────────────────────┼───────────────┤\n",
       "│ leaky_re_lu (<span style=\"color: #0087ff; text-decoration-color: #0087ff\">LeakyReLU</span>)         │ (<span style=\"color: #00d7ff; text-decoration-color: #00d7ff\">None</span>, <span style=\"color: #00af00; text-decoration-color: #00af00\">1</span>, <span style=\"color: #00af00; text-decoration-color: #00af00\">256</span>)         │             <span style=\"color: #00af00; text-decoration-color: #00af00\">0</span> │\n",
       "├─────────────────────────────────┼────────────────────────┼───────────────┤\n",
       "│ lstm_1 (<span style=\"color: #0087ff; text-decoration-color: #0087ff\">LSTM</span>)                   │ (<span style=\"color: #00d7ff; text-decoration-color: #00d7ff\">None</span>, <span style=\"color: #00af00; text-decoration-color: #00af00\">1</span>, <span style=\"color: #00af00; text-decoration-color: #00af00\">128</span>)         │       <span style=\"color: #00af00; text-decoration-color: #00af00\">197,120</span> │\n",
       "├─────────────────────────────────┼────────────────────────┼───────────────┤\n",
       "│ leaky_re_lu_1 (<span style=\"color: #0087ff; text-decoration-color: #0087ff\">LeakyReLU</span>)       │ (<span style=\"color: #00d7ff; text-decoration-color: #00d7ff\">None</span>, <span style=\"color: #00af00; text-decoration-color: #00af00\">1</span>, <span style=\"color: #00af00; text-decoration-color: #00af00\">128</span>)         │             <span style=\"color: #00af00; text-decoration-color: #00af00\">0</span> │\n",
       "├─────────────────────────────────┼────────────────────────┼───────────────┤\n",
       "│ dropout (<span style=\"color: #0087ff; text-decoration-color: #0087ff\">Dropout</span>)               │ (<span style=\"color: #00d7ff; text-decoration-color: #00d7ff\">None</span>, <span style=\"color: #00af00; text-decoration-color: #00af00\">1</span>, <span style=\"color: #00af00; text-decoration-color: #00af00\">128</span>)         │             <span style=\"color: #00af00; text-decoration-color: #00af00\">0</span> │\n",
       "├─────────────────────────────────┼────────────────────────┼───────────────┤\n",
       "│ lstm_2 (<span style=\"color: #0087ff; text-decoration-color: #0087ff\">LSTM</span>)                   │ (<span style=\"color: #00d7ff; text-decoration-color: #00d7ff\">None</span>, <span style=\"color: #00af00; text-decoration-color: #00af00\">64</span>)             │        <span style=\"color: #00af00; text-decoration-color: #00af00\">49,408</span> │\n",
       "├─────────────────────────────────┼────────────────────────┼───────────────┤\n",
       "│ dropout_1 (<span style=\"color: #0087ff; text-decoration-color: #0087ff\">Dropout</span>)             │ (<span style=\"color: #00d7ff; text-decoration-color: #00d7ff\">None</span>, <span style=\"color: #00af00; text-decoration-color: #00af00\">64</span>)             │             <span style=\"color: #00af00; text-decoration-color: #00af00\">0</span> │\n",
       "├─────────────────────────────────┼────────────────────────┼───────────────┤\n",
       "│ dense (<span style=\"color: #0087ff; text-decoration-color: #0087ff\">Dense</span>)                   │ (<span style=\"color: #00d7ff; text-decoration-color: #00d7ff\">None</span>, <span style=\"color: #00af00; text-decoration-color: #00af00\">25</span>)             │         <span style=\"color: #00af00; text-decoration-color: #00af00\">1,625</span> │\n",
       "├─────────────────────────────────┼────────────────────────┼───────────────┤\n",
       "│ dense_1 (<span style=\"color: #0087ff; text-decoration-color: #0087ff\">Dense</span>)                 │ (<span style=\"color: #00d7ff; text-decoration-color: #00d7ff\">None</span>, <span style=\"color: #00af00; text-decoration-color: #00af00\">1</span>)              │            <span style=\"color: #00af00; text-decoration-color: #00af00\">26</span> │\n",
       "└─────────────────────────────────┴────────────────────────┴───────────────┘\n",
       "</pre>\n"
      ],
      "text/plain": [
       "┏━━━━━━━━━━━━━━━━━━━━━━━━━━━━━━━━━┳━━━━━━━━━━━━━━━━━━━━━━━━┳━━━━━━━━━━━━━━━┓\n",
       "┃\u001b[1m \u001b[0m\u001b[1mLayer (type)                   \u001b[0m\u001b[1m \u001b[0m┃\u001b[1m \u001b[0m\u001b[1mOutput Shape          \u001b[0m\u001b[1m \u001b[0m┃\u001b[1m \u001b[0m\u001b[1m      Param #\u001b[0m\u001b[1m \u001b[0m┃\n",
       "┡━━━━━━━━━━━━━━━━━━━━━━━━━━━━━━━━━╇━━━━━━━━━━━━━━━━━━━━━━━━╇━━━━━━━━━━━━━━━┩\n",
       "│ lstm (\u001b[38;5;33mLSTM\u001b[0m)                     │ (\u001b[38;5;45mNone\u001b[0m, \u001b[38;5;34m1\u001b[0m, \u001b[38;5;34m256\u001b[0m)         │       \u001b[38;5;34m283,648\u001b[0m │\n",
       "├─────────────────────────────────┼────────────────────────┼───────────────┤\n",
       "│ leaky_re_lu (\u001b[38;5;33mLeakyReLU\u001b[0m)         │ (\u001b[38;5;45mNone\u001b[0m, \u001b[38;5;34m1\u001b[0m, \u001b[38;5;34m256\u001b[0m)         │             \u001b[38;5;34m0\u001b[0m │\n",
       "├─────────────────────────────────┼────────────────────────┼───────────────┤\n",
       "│ lstm_1 (\u001b[38;5;33mLSTM\u001b[0m)                   │ (\u001b[38;5;45mNone\u001b[0m, \u001b[38;5;34m1\u001b[0m, \u001b[38;5;34m128\u001b[0m)         │       \u001b[38;5;34m197,120\u001b[0m │\n",
       "├─────────────────────────────────┼────────────────────────┼───────────────┤\n",
       "│ leaky_re_lu_1 (\u001b[38;5;33mLeakyReLU\u001b[0m)       │ (\u001b[38;5;45mNone\u001b[0m, \u001b[38;5;34m1\u001b[0m, \u001b[38;5;34m128\u001b[0m)         │             \u001b[38;5;34m0\u001b[0m │\n",
       "├─────────────────────────────────┼────────────────────────┼───────────────┤\n",
       "│ dropout (\u001b[38;5;33mDropout\u001b[0m)               │ (\u001b[38;5;45mNone\u001b[0m, \u001b[38;5;34m1\u001b[0m, \u001b[38;5;34m128\u001b[0m)         │             \u001b[38;5;34m0\u001b[0m │\n",
       "├─────────────────────────────────┼────────────────────────┼───────────────┤\n",
       "│ lstm_2 (\u001b[38;5;33mLSTM\u001b[0m)                   │ (\u001b[38;5;45mNone\u001b[0m, \u001b[38;5;34m64\u001b[0m)             │        \u001b[38;5;34m49,408\u001b[0m │\n",
       "├─────────────────────────────────┼────────────────────────┼───────────────┤\n",
       "│ dropout_1 (\u001b[38;5;33mDropout\u001b[0m)             │ (\u001b[38;5;45mNone\u001b[0m, \u001b[38;5;34m64\u001b[0m)             │             \u001b[38;5;34m0\u001b[0m │\n",
       "├─────────────────────────────────┼────────────────────────┼───────────────┤\n",
       "│ dense (\u001b[38;5;33mDense\u001b[0m)                   │ (\u001b[38;5;45mNone\u001b[0m, \u001b[38;5;34m25\u001b[0m)             │         \u001b[38;5;34m1,625\u001b[0m │\n",
       "├─────────────────────────────────┼────────────────────────┼───────────────┤\n",
       "│ dense_1 (\u001b[38;5;33mDense\u001b[0m)                 │ (\u001b[38;5;45mNone\u001b[0m, \u001b[38;5;34m1\u001b[0m)              │            \u001b[38;5;34m26\u001b[0m │\n",
       "└─────────────────────────────────┴────────────────────────┴───────────────┘\n"
      ]
     },
     "metadata": {},
     "output_type": "display_data"
    },
    {
     "data": {
      "text/html": [
       "<pre style=\"white-space:pre;overflow-x:auto;line-height:normal;font-family:Menlo,'DejaVu Sans Mono',consolas,'Courier New',monospace\"><span style=\"font-weight: bold\"> Total params: </span><span style=\"color: #00af00; text-decoration-color: #00af00\">531,827</span> (2.03 MB)\n",
       "</pre>\n"
      ],
      "text/plain": [
       "\u001b[1m Total params: \u001b[0m\u001b[38;5;34m531,827\u001b[0m (2.03 MB)\n"
      ]
     },
     "metadata": {},
     "output_type": "display_data"
    },
    {
     "data": {
      "text/html": [
       "<pre style=\"white-space:pre;overflow-x:auto;line-height:normal;font-family:Menlo,'DejaVu Sans Mono',consolas,'Courier New',monospace\"><span style=\"font-weight: bold\"> Trainable params: </span><span style=\"color: #00af00; text-decoration-color: #00af00\">531,827</span> (2.03 MB)\n",
       "</pre>\n"
      ],
      "text/plain": [
       "\u001b[1m Trainable params: \u001b[0m\u001b[38;5;34m531,827\u001b[0m (2.03 MB)\n"
      ]
     },
     "metadata": {},
     "output_type": "display_data"
    },
    {
     "data": {
      "text/html": [
       "<pre style=\"white-space:pre;overflow-x:auto;line-height:normal;font-family:Menlo,'DejaVu Sans Mono',consolas,'Courier New',monospace\"><span style=\"font-weight: bold\"> Non-trainable params: </span><span style=\"color: #00af00; text-decoration-color: #00af00\">0</span> (0.00 B)\n",
       "</pre>\n"
      ],
      "text/plain": [
       "\u001b[1m Non-trainable params: \u001b[0m\u001b[38;5;34m0\u001b[0m (0.00 B)\n"
      ]
     },
     "metadata": {},
     "output_type": "display_data"
    }
   ],
   "source": [
    "# Aufbau des LSTM-Modells\n",
    "model = Sequential()\n",
    "model.add(LSTM(256, return_sequences=True, input_shape=(x_train.shape[1], x_train.shape[2])))  # Erste LSTM-Schicht mit 256 Neuronen\n",
    "model.add(tf.keras.layers.LeakyReLU(alpha=0.5))  # Leaky ReLU Aktivierungsfunktion\n",
    "model.add(LSTM(128, return_sequences=True))  # Zweite LSTM-Schicht mit 128 Neuronen\n",
    "model.add(tf.keras.layers.LeakyReLU(alpha=0.5))  # Leaky ReLU Aktivierungsfunktion\n",
    "model.add(tf.keras.layers.Dropout(0.20))  # Dropout-Schicht mit 20% Rate\n",
    "model.add(LSTM(64, return_sequences=False))  # Dritte LSTM-Schicht mit 64 Neuronen\n",
    "model.add(tf.keras.layers.Dropout(0.20))  # Dropout-Schicht mit 20% Rate\n",
    "model.add(Dense(25))  # Dense-Schicht mit 25 Neuronen\n",
    "model.add(Dense(1))  # Ausgabeschicht mit 1 Neuron\n",
    "\n",
    "model.summary()  # Zusammenfassung des Modells"
   ]
  },
  {
   "cell_type": "code",
   "execution_count": 17,
   "id": "b7861a37",
   "metadata": {
    "execution": {
     "iopub.execute_input": "2025-01-24T13:46:57.128398Z",
     "iopub.status.busy": "2025-01-24T13:46:57.128029Z",
     "iopub.status.idle": "2025-01-24T13:46:57.150345Z",
     "shell.execute_reply": "2025-01-24T13:46:57.149152Z"
    },
    "papermill": {
     "duration": 0.033631,
     "end_time": "2025-01-24T13:46:57.152873",
     "exception": false,
     "start_time": "2025-01-24T13:46:57.119242",
     "status": "completed"
    },
    "tags": []
   },
   "outputs": [],
   "source": [
    "# Earlystopping, um overfitting zu vermeiden\n",
    "earlystopping = tf.keras.callbacks.EarlyStopping(monitor='val_loss', patience=2, mode='min')\n",
    "\n",
    "# Kompilierung des Modells\n",
    "model.compile(optimizer=tf.optimizers.Adamax(), \n",
    "              loss=tf.losses.MeanAbsolutePercentageError(), \n",
    "              metrics=[tf.keras.metrics.RootMeanSquaredError()])"
   ]
  },
  {
   "cell_type": "code",
   "execution_count": 18,
   "id": "e7e68e4b",
   "metadata": {
    "execution": {
     "iopub.execute_input": "2025-01-24T13:46:57.169494Z",
     "iopub.status.busy": "2025-01-24T13:46:57.169139Z",
     "iopub.status.idle": "2025-01-24T13:47:57.792226Z",
     "shell.execute_reply": "2025-01-24T13:47:57.791088Z"
    },
    "papermill": {
     "duration": 60.69286,
     "end_time": "2025-01-24T13:47:57.853479",
     "exception": false,
     "start_time": "2025-01-24T13:46:57.160619",
     "status": "completed"
    },
    "tags": []
   },
   "outputs": [
    {
     "name": "stdout",
     "output_type": "stream",
     "text": [
      "Epoch 1/100\n",
      "\u001b[1m1511/1511\u001b[0m \u001b[32m━━━━━━━━━━━━━━━━━━━━\u001b[0m\u001b[37m\u001b[0m \u001b[1m16s\u001b[0m 8ms/step - loss: 19.2653 - root_mean_squared_error: 0.1198 - val_loss: 106.5640 - val_root_mean_squared_error: 0.0764 - learning_rate: 0.0010\n",
      "Epoch 2/100\n",
      "\u001b[1m1511/1511\u001b[0m \u001b[32m━━━━━━━━━━━━━━━━━━━━\u001b[0m\u001b[37m\u001b[0m \u001b[1m11s\u001b[0m 7ms/step - loss: 9.8322 - root_mean_squared_error: 0.0645 - val_loss: 96.5846 - val_root_mean_squared_error: 0.0597 - learning_rate: 0.0010\n",
      "Epoch 3/100\n",
      "\u001b[1m1511/1511\u001b[0m \u001b[32m━━━━━━━━━━━━━━━━━━━━\u001b[0m\u001b[37m\u001b[0m \u001b[1m11s\u001b[0m 7ms/step - loss: 8.5006 - root_mean_squared_error: 0.0564 - val_loss: 71.3938 - val_root_mean_squared_error: 0.0527 - learning_rate: 0.0010\n",
      "Epoch 4/100\n",
      "\u001b[1m1511/1511\u001b[0m \u001b[32m━━━━━━━━━━━━━━━━━━━━\u001b[0m\u001b[37m\u001b[0m \u001b[1m11s\u001b[0m 7ms/step - loss: 7.8254 - root_mean_squared_error: 0.0532 - val_loss: 87.7952 - val_root_mean_squared_error: 0.0480 - learning_rate: 0.0010\n",
      "Epoch 5/100\n",
      "\u001b[1m1511/1511\u001b[0m \u001b[32m━━━━━━━━━━━━━━━━━━━━\u001b[0m\u001b[37m\u001b[0m \u001b[1m11s\u001b[0m 7ms/step - loss: 7.3459 - root_mean_squared_error: 0.0504 - val_loss: 91.7000 - val_root_mean_squared_error: 0.0460 - learning_rate: 0.0010\n"
     ]
    },
    {
     "data": {
      "text/plain": [
       "<keras.src.callbacks.history.History at 0x7a7e52a799c0>"
      ]
     },
     "execution_count": 18,
     "metadata": {},
     "output_type": "execute_result"
    }
   ],
   "source": [
    "from keras.callbacks import LearningRateScheduler\n",
    "\n",
    "# lr_schedule definieren\n",
    "def lr_scheduler(epoch, lr):\n",
    "    if epoch % 10 == 0 and epoch != 0:\n",
    "        return lr * 0.5  \n",
    "    return lr\n",
    "\n",
    "# Callback erstellen\n",
    "lr_callback = LearningRateScheduler(lr_scheduler)\n",
    "\n",
    "# Training des LSTM-Netzwerkes\n",
    "model.fit(x_train, y_train, batch_size=1, epochs=100, validation_data=(x_test, y_test),\n",
    "         callbacks=[earlystopping, lr_callback])"
   ]
  },
  {
   "cell_type": "code",
   "execution_count": 19,
   "id": "5719d272",
   "metadata": {
    "execution": {
     "iopub.execute_input": "2025-01-24T13:47:57.985202Z",
     "iopub.status.busy": "2025-01-24T13:47:57.984419Z",
     "iopub.status.idle": "2025-01-24T13:47:59.214435Z",
     "shell.execute_reply": "2025-01-24T13:47:59.213299Z"
    },
    "papermill": {
     "duration": 1.298368,
     "end_time": "2025-01-24T13:47:59.216869",
     "exception": false,
     "start_time": "2025-01-24T13:47:57.918501",
     "status": "completed"
    },
    "tags": []
   },
   "outputs": [
    {
     "name": "stdout",
     "output_type": "stream",
     "text": [
      "\u001b[1m48/48\u001b[0m \u001b[32m━━━━━━━━━━━━━━━━━━━━\u001b[0m\u001b[37m\u001b[0m \u001b[1m1s\u001b[0m 12ms/step\n",
      "\u001b[1m9/9\u001b[0m \u001b[32m━━━━━━━━━━━━━━━━━━━━\u001b[0m\u001b[37m\u001b[0m \u001b[1m0s\u001b[0m 3ms/step \n"
     ]
    }
   ],
   "source": [
    "# Vorhersagen mit dem Modell\n",
    "train_predict = model.predict(x_train)\n",
    "test_predict = model.predict(x_test)"
   ]
  },
  {
   "cell_type": "code",
   "execution_count": 20,
   "id": "755e80d6",
   "metadata": {
    "execution": {
     "iopub.execute_input": "2025-01-24T13:47:59.349307Z",
     "iopub.status.busy": "2025-01-24T13:47:59.348871Z",
     "iopub.status.idle": "2025-01-24T13:47:59.708581Z",
     "shell.execute_reply": "2025-01-24T13:47:59.707489Z"
    },
    "papermill": {
     "duration": 0.429093,
     "end_time": "2025-01-24T13:47:59.711377",
     "exception": false,
     "start_time": "2025-01-24T13:47:59.282284",
     "status": "completed"
    },
    "tags": []
   },
   "outputs": [
    {
     "data": {
      "image/png": "[encoded data removed]",
      "text/plain": [
       "<Figure size 1200x600 with 1 Axes>"
      ]
     },
     "metadata": {},
     "output_type": "display_data"
    }
   ],
   "source": [
    "# Plotten der Performance am Train-Set\n",
    "\n",
    "import matplotlib.pyplot as plt\n",
    "\n",
    "plt.figure(figsize = (12 , 6))\n",
    "plt.plot(y_train , 'b' , label = 'Actual')\n",
    "plt.plot(np.array(train_predict).squeeze() , 'orange' , label = 'Forecast')\n",
    "plt.grid()\n",
    "plt.legend()\n",
    "plt.title(\"Train-Set : Actual vs Forecast\")\n",
    "plt.show()"
   ]
  },
  {
   "cell_type": "code",
   "execution_count": 21,
   "id": "a0aac1e3",
   "metadata": {
    "execution": {
     "iopub.execute_input": "2025-01-24T13:47:59.842610Z",
     "iopub.status.busy": "2025-01-24T13:47:59.842209Z",
     "iopub.status.idle": "2025-01-24T13:48:00.084265Z",
     "shell.execute_reply": "2025-01-24T13:48:00.083035Z"
    },
    "papermill": {
     "duration": 0.309367,
     "end_time": "2025-01-24T13:48:00.086715",
     "exception": false,
     "start_time": "2025-01-24T13:47:59.777348",
     "status": "completed"
    },
    "tags": []
   },
   "outputs": [
    {
     "data": {
      "image/png": "[encoded data removed]",
      "text/plain": [
       "<Figure size 1200x600 with 1 Axes>"
      ]
     },
     "metadata": {},
     "output_type": "display_data"
    }
   ],
   "source": [
    "# Plotten der Performance am Test-Set\n",
    "\n",
    "plt.figure(figsize = (12 , 6))\n",
    "plt.plot(y_test , 'b' , label = 'Actual')\n",
    "plt.plot(np.array(test_predict).squeeze() , 'orange' , label = 'Forecast')\n",
    "plt.grid()\n",
    "plt.legend()\n",
    "plt.title(\"Test-Set : Actual vs Forecast\")\n",
    "plt.show()"
   ]
  },
  {
   "cell_type": "code",
   "execution_count": 22,
   "id": "05566e7e",
   "metadata": {
    "execution": {
     "iopub.execute_input": "2025-01-24T13:48:00.224117Z",
     "iopub.status.busy": "2025-01-24T13:48:00.223655Z",
     "iopub.status.idle": "2025-01-24T13:48:00.232199Z",
     "shell.execute_reply": "2025-01-24T13:48:00.231063Z"
    },
    "papermill": {
     "duration": 0.077973,
     "end_time": "2025-01-24T13:48:00.235025",
     "exception": false,
     "start_time": "2025-01-24T13:48:00.157052",
     "status": "completed"
    },
    "tags": []
   },
   "outputs": [
    {
     "name": "stdout",
     "output_type": "stream",
     "text": [
      "The RMSE for test set is 0.05\n",
      "\n",
      "\n",
      "The RMSE for train set is 0.02\n"
     ]
    }
   ],
   "source": [
    "# Ausgabe des RMSE (Root Mean Square Error) für Test- und Trainingsdaten\n",
    "\n",
    "print(f'The RMSE for test set is {round(mean_squared_error(y_test, np.array(test_predict).squeeze(), squared=False), 2)}')\n",
    "print('\\n')\n",
    "print(f'The RMSE for train set is {round(mean_squared_error(y_train, np.array(train_predict).squeeze(), squared=False), 2)}')"
   ]
  }
 ],
 "metadata": {
  "kaggle": {
   "accelerator": "none",
   "dataSources": [
    {
     "datasetId": 6272829,
     "sourceId": 10159060,
     "sourceType": "datasetVersion"
    }
   ],
   "dockerImageVersionId": 30804,
   "isGpuEnabled": false,
   "isInternetEnabled": true,
   "language": "python",
   "sourceType": "notebook"
  },
  "kernelspec": {
   "display_name": "Python 3",
   "language": "python",
   "name": "python3"
  },
  "language_info": {
   "codemirror_mode": {
    "name": "ipython",
    "version": 3
   },
   "file_extension": ".py",
   "mimetype": "text/x-python",
   "name": "python",
   "nbconvert_exporter": "python",
   "pygments_lexer": "ipython3",
   "version": "3.10.14"
  },
  "papermill": {
   "default_parameters": {},
   "duration": 88.07872,
   "end_time": "2025-01-24T13:48:02.765261",
   "environment_variables": {},
   "exception": null,
   "input_path": "__notebook__.ipynb",
   "output_path": "__notebook__.ipynb",
   "parameters": {},
   "start_time": "2025-01-24T13:46:34.686541",
   "version": "2.6.0"
  }
 },
 "nbformat": 4,
 "nbformat_minor": 5
}
